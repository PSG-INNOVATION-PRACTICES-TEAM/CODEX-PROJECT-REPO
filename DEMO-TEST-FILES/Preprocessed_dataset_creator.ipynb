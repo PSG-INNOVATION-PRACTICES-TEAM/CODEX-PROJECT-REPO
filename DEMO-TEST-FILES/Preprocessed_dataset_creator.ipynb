{
 "cells": [
  {
   "cell_type": "code",
   "execution_count": 1,
   "metadata": {},
   "outputs": [],
   "source": [
    "import pandas as pd"
   ]
  },
  {
   "cell_type": "code",
   "execution_count": 2,
   "metadata": {},
   "outputs": [
    {
     "data": {
      "text/html": [
       "<div>\n",
       "<style scoped>\n",
       "    .dataframe tbody tr th:only-of-type {\n",
       "        vertical-align: middle;\n",
       "    }\n",
       "\n",
       "    .dataframe tbody tr th {\n",
       "        vertical-align: top;\n",
       "    }\n",
       "\n",
       "    .dataframe thead th {\n",
       "        text-align: right;\n",
       "    }\n",
       "</style>\n",
       "<table border=\"1\" class=\"dataframe\">\n",
       "  <thead>\n",
       "    <tr style=\"text-align: right;\">\n",
       "      <th></th>\n",
       "      <th>english_statement</th>\n",
       "      <th>intent</th>\n",
       "      <th>programming_statement</th>\n",
       "      <th>audio_file_name</th>\n",
       "    </tr>\n",
       "  </thead>\n",
       "  <tbody>\n",
       "    <tr>\n",
       "      <th>0</th>\n",
       "      <td>i equals zero</td>\n",
       "      <td>arithmetic_expression</td>\n",
       "      <td>i =0</td>\n",
       "      <td>audio-438153821.mp3</td>\n",
       "    </tr>\n",
       "    <tr>\n",
       "      <th>1</th>\n",
       "      <td>i not equals zero</td>\n",
       "      <td>arithmetic_expression</td>\n",
       "      <td>i !=0</td>\n",
       "      <td>audio-668324927.mp3</td>\n",
       "    </tr>\n",
       "    <tr>\n",
       "      <th>2</th>\n",
       "      <td>i less than zero</td>\n",
       "      <td>arithmetic_expression</td>\n",
       "      <td>i &lt;0</td>\n",
       "      <td>audio-624815281.mp3</td>\n",
       "    </tr>\n",
       "    <tr>\n",
       "      <th>3</th>\n",
       "      <td>i greater than zero</td>\n",
       "      <td>arithmetic_expression</td>\n",
       "      <td>i &gt;0</td>\n",
       "      <td>audio-810256478.mp3</td>\n",
       "    </tr>\n",
       "    <tr>\n",
       "      <th>4</th>\n",
       "      <td>i less than equals zero</td>\n",
       "      <td>arithmetic_expression</td>\n",
       "      <td>i &lt;=0</td>\n",
       "      <td>audio-397931780.mp3</td>\n",
       "    </tr>\n",
       "  </tbody>\n",
       "</table>\n",
       "</div>"
      ],
      "text/plain": [
       "         english_statement                 intent programming_statement  \\\n",
       "0            i equals zero  arithmetic_expression                  i =0   \n",
       "1        i not equals zero  arithmetic_expression                 i !=0   \n",
       "2         i less than zero  arithmetic_expression                  i <0   \n",
       "3      i greater than zero  arithmetic_expression                  i >0   \n",
       "4  i less than equals zero  arithmetic_expression                 i <=0   \n",
       "\n",
       "       audio_file_name  \n",
       "0  audio-438153821.mp3  \n",
       "1  audio-668324927.mp3  \n",
       "2  audio-624815281.mp3  \n",
       "3  audio-810256478.mp3  \n",
       "4  audio-397931780.mp3  "
      ]
     },
     "execution_count": 2,
     "metadata": {},
     "output_type": "execute_result"
    }
   ],
   "source": [
    "df = pd.read_csv('dataset.csv')\n",
    "df.head()"
   ]
  },
  {
   "cell_type": "markdown",
   "metadata": {},
   "source": [
    "EXPLORATORY DATA ANALYSIS"
   ]
  },
  {
   "cell_type": "code",
   "execution_count": 15,
   "metadata": {},
   "outputs": [],
   "source": [
    "import matplotlib.pyplot as plt\n",
    "import IPython.display as ipd\n",
    "import librosa\n",
    "import librosa.display\n",
    "%matplotlib inline"
   ]
  },
  {
   "cell_type": "code",
   "execution_count": 3,
   "metadata": {},
   "outputs": [
    {
     "ename": "NameError",
     "evalue": "name 'plt' is not defined",
     "output_type": "error",
     "traceback": [
      "\u001b[1;31m---------------------------------------------------------------------------\u001b[0m",
      "\u001b[1;31mNameError\u001b[0m                                 Traceback (most recent call last)",
      "\u001b[1;32m~\\AppData\\Local\\Temp\\ipykernel_30460\\1436355386.py\u001b[0m in \u001b[0;36m<module>\u001b[1;34m\u001b[0m\n\u001b[0;32m      1\u001b[0m \u001b[1;31m#Visualising the audio file\u001b[0m\u001b[1;33m\u001b[0m\u001b[1;33m\u001b[0m\u001b[1;33m\u001b[0m\u001b[0m\n\u001b[1;32m----> 2\u001b[1;33m \u001b[0mplt\u001b[0m\u001b[1;33m.\u001b[0m\u001b[0mfigure\u001b[0m\u001b[1;33m(\u001b[0m\u001b[0mfigsize\u001b[0m\u001b[1;33m=\u001b[0m\u001b[1;33m(\u001b[0m\u001b[1;36m14\u001b[0m\u001b[1;33m,\u001b[0m\u001b[1;36m5\u001b[0m\u001b[1;33m)\u001b[0m\u001b[1;33m)\u001b[0m\u001b[1;33m\u001b[0m\u001b[1;33m\u001b[0m\u001b[0m\n\u001b[0m\u001b[0;32m      3\u001b[0m \u001b[0mfilename\u001b[0m \u001b[1;33m=\u001b[0m \u001b[1;34m'D:\\\\7th Semester\\\\PROJECT-WORK-PHASE-1\\\\CODEX-PROJECT-REPO\\DEMO-TEST-FILES\\\\test_file_wav.wav'\u001b[0m\u001b[1;33m\u001b[0m\u001b[1;33m\u001b[0m\u001b[0m\n\u001b[0;32m      4\u001b[0m \u001b[0maudio_file\u001b[0m\u001b[1;33m,\u001b[0m\u001b[0msample_rate\u001b[0m \u001b[1;33m=\u001b[0m \u001b[0mlibrosa\u001b[0m\u001b[1;33m.\u001b[0m\u001b[0mload\u001b[0m\u001b[1;33m(\u001b[0m\u001b[0mfilename\u001b[0m\u001b[1;33m)\u001b[0m\u001b[1;33m\u001b[0m\u001b[1;33m\u001b[0m\u001b[0m\n\u001b[0;32m      5\u001b[0m \u001b[0mlibrosa\u001b[0m\u001b[1;33m.\u001b[0m\u001b[0mdisplay\u001b[0m\u001b[1;33m.\u001b[0m\u001b[0mwaveshow\u001b[0m\u001b[1;33m(\u001b[0m\u001b[0maudio_file\u001b[0m\u001b[1;33m,\u001b[0m\u001b[0msr\u001b[0m\u001b[1;33m=\u001b[0m\u001b[0msample_rate\u001b[0m\u001b[1;33m)\u001b[0m\u001b[1;33m\u001b[0m\u001b[1;33m\u001b[0m\u001b[0m\n",
      "\u001b[1;31mNameError\u001b[0m: name 'plt' is not defined"
     ]
    }
   ],
   "source": [
    "#Visualising the audio file\n",
    "plt.figure(figsize=(14,5))\n",
    "filename = 'D:\\\\7th Semester\\\\PROJECT-WORK-PHASE-1\\\\CODEX-PROJECT-REPO\\DEMO-TEST-FILES\\\\test_file_wav.wav'\n",
    "audio_file,sample_rate = librosa.load(filename)\n",
    "librosa.display.waveshow(audio_file,sr=sample_rate)\n",
    "ipd.Audio(filename)"
   ]
  },
  {
   "cell_type": "code",
   "execution_count": 18,
   "metadata": {},
   "outputs": [
    {
     "data": {
      "text/plain": [
       "22050"
      ]
     },
     "execution_count": 18,
     "metadata": {},
     "output_type": "execute_result"
    }
   ],
   "source": [
    "#constant sample rate of librosa library\n",
    "sample_rate"
   ]
  },
  {
   "cell_type": "code",
   "execution_count": 27,
   "metadata": {},
   "outputs": [
    {
     "data": {
      "text/plain": [
       "array([-0.03002885, -0.05616896, -0.08092307, ...,  0.        ,\n",
       "        0.        ,  0.        ], dtype=float32)"
      ]
     },
     "execution_count": 27,
     "metadata": {},
     "output_type": "execute_result"
    }
   ],
   "source": [
    "#Normalised Data from Librosa\n",
    "audio_file[10000:]"
   ]
  },
  {
   "cell_type": "code",
   "execution_count": 20,
   "metadata": {},
   "outputs": [],
   "source": [
    "#Using Alternative package like scipy.io.wavfile\n",
    "from scipy.io import wavfile as wav\n",
    "wav_sample_rate,wave_audio = wav.read(filename)"
   ]
  },
  {
   "cell_type": "code",
   "execution_count": 21,
   "metadata": {},
   "outputs": [
    {
     "data": {
      "text/plain": [
       "24000"
      ]
     },
     "execution_count": 21,
     "metadata": {},
     "output_type": "execute_result"
    }
   ],
   "source": [
    "#Variable Sample rate\n",
    "wav_sample_rate"
   ]
  },
  {
   "cell_type": "code",
   "execution_count": 30,
   "metadata": {},
   "outputs": [
    {
     "data": {
      "text/plain": [
       "array([-6805, -6857, -6524, ...,     0,     0,     0], dtype=int16)"
      ]
     },
     "execution_count": 30,
     "metadata": {},
     "output_type": "execute_result"
    }
   ],
   "source": [
    "#Non Normalised representation of wavfile\n",
    "wave_audio[10000:]"
   ]
  },
  {
   "cell_type": "markdown",
   "metadata": {},
   "source": [
    "DATA PRE-PROCESSING"
   ]
  },
  {
   "cell_type": "code",
   "execution_count": 37,
   "metadata": {},
   "outputs": [],
   "source": [
    "#Feature Extraction\n",
    "filename = 'D:\\\\7th Semester\\\\PROJECT-WORK-PHASE-1\\\\CODEX-PROJECT-REPO\\\\DEMO-TEST-FILES\\\\test_file_wav.wav'\n",
    "audio_file,sample_rate = librosa.load(filename)"
   ]
  },
  {
   "cell_type": "code",
   "execution_count": 39,
   "metadata": {},
   "outputs": [
    {
     "data": {
      "text/plain": [
       "array([0., 0., 0., ..., 0., 0., 0.], dtype=float32)"
      ]
     },
     "execution_count": 39,
     "metadata": {},
     "output_type": "execute_result"
    }
   ],
   "source": [
    "audio_file"
   ]
  },
  {
   "cell_type": "code",
   "execution_count": 33,
   "metadata": {},
   "outputs": [
    {
     "data": {
      "text/plain": [
       "(40, 87)"
      ]
     },
     "execution_count": 33,
     "metadata": {},
     "output_type": "execute_result"
    }
   ],
   "source": [
    "#Feature Extraction - Mel Frequency Cepstral Co efficient\n",
    "mfccs = librosa.feature.mfcc(y=audio_file,sr=sample_rate,n_mfcc=40)\n",
    "mfccs.shape"
   ]
  },
  {
   "cell_type": "code",
   "execution_count": 40,
   "metadata": {},
   "outputs": [
    {
     "data": {
      "text/plain": [
       "array([[-5.8517175e+02, -5.8408173e+02, -4.4085461e+02, ...,\n",
       "        -5.8517175e+02, -5.8517175e+02, -5.8517175e+02],\n",
       "       [ 0.0000000e+00,  1.5379781e+00,  8.1914932e+01, ...,\n",
       "         0.0000000e+00,  0.0000000e+00,  0.0000000e+00],\n",
       "       [ 0.0000000e+00,  1.5273013e+00,  2.2608765e+01, ...,\n",
       "         0.0000000e+00,  0.0000000e+00,  0.0000000e+00],\n",
       "       ...,\n",
       "       [ 0.0000000e+00, -1.8894018e-01, -3.9203236e+00, ...,\n",
       "         0.0000000e+00,  0.0000000e+00,  0.0000000e+00],\n",
       "       [ 0.0000000e+00, -1.9236237e-01, -2.5625687e+00, ...,\n",
       "         0.0000000e+00,  0.0000000e+00,  0.0000000e+00],\n",
       "       [ 0.0000000e+00, -1.9260266e-01,  1.3053100e+00, ...,\n",
       "         0.0000000e+00,  0.0000000e+00,  0.0000000e+00]], dtype=float32)"
      ]
     },
     "execution_count": 40,
     "metadata": {},
     "output_type": "execute_result"
    }
   ],
   "source": [
    "mfccs"
   ]
  },
  {
   "cell_type": "markdown",
   "metadata": {},
   "source": [
    "DATA PREPROCESSING FUNCTION"
   ]
  },
  {
   "cell_type": "code",
   "execution_count": 1,
   "metadata": {},
   "outputs": [],
   "source": [
    "import numpy as np\n",
    "def feature_extractor(filename):\n",
    "    audio_file,sample_rate = librosa.load(filename)\n",
    "    features = librosa.feature.mfcc(y=audio_file,sr=sample_rate,n_mfcc=40)\n",
    "    scaled_features = np.mean(features.T,axis=0)\n",
    "    return scaled_features"
   ]
  },
  {
   "cell_type": "code",
   "execution_count": 4,
   "metadata": {},
   "outputs": [
    {
     "ename": "NameError",
     "evalue": "name 'filename' is not defined",
     "output_type": "error",
     "traceback": [
      "\u001b[1;31m---------------------------------------------------------------------------\u001b[0m",
      "\u001b[1;31mNameError\u001b[0m                                 Traceback (most recent call last)",
      "\u001b[1;32m~\\AppData\\Local\\Temp\\ipykernel_30460\\3915485311.py\u001b[0m in \u001b[0;36m<module>\u001b[1;34m\u001b[0m\n\u001b[1;32m----> 1\u001b[1;33m \u001b[0mprint\u001b[0m\u001b[1;33m(\u001b[0m\u001b[0mnp\u001b[0m\u001b[1;33m.\u001b[0m\u001b[0marray\u001b[0m\u001b[1;33m(\u001b[0m\u001b[0mfeature_extractor\u001b[0m\u001b[1;33m(\u001b[0m\u001b[0mfilename\u001b[0m\u001b[1;33m)\u001b[0m\u001b[1;33m)\u001b[0m\u001b[1;33m)\u001b[0m\u001b[1;33m\u001b[0m\u001b[1;33m\u001b[0m\u001b[0m\n\u001b[0m",
      "\u001b[1;31mNameError\u001b[0m: name 'filename' is not defined"
     ]
    }
   ],
   "source": [
    "print(np.array(feature_extractor(filename)))"
   ]
  },
  {
   "cell_type": "code",
   "execution_count": 45,
   "metadata": {},
   "outputs": [
    {
     "data": {
      "text/plain": [
       "6801"
      ]
     },
     "execution_count": 45,
     "metadata": {},
     "output_type": "execute_result"
    }
   ],
   "source": [
    "#List of filenames present in wav folder\n",
    "from glob import glob\n",
    "audio_files = glob('D:/7th Semester/PROJECT-WORK-PHASE-1/CODEX-PROJECT-REPO/FINAL_WAV_AUDIO/*.wav')\n",
    "len(audio_files)"
   ]
  },
  {
   "cell_type": "code",
   "execution_count": 52,
   "metadata": {},
   "outputs": [
    {
     "data": {
      "text/plain": [
       "'D:/7th Semester/PROJECT-WORK-PHASE-1/CODEX-PROJECT-REPO/FINAL_WAV_AUDIO\\\\audio-1001048.wav'"
      ]
     },
     "execution_count": 52,
     "metadata": {},
     "output_type": "execute_result"
    }
   ],
   "source": [
    "audio_files[0]"
   ]
  },
  {
   "cell_type": "code",
   "execution_count": 48,
   "metadata": {},
   "outputs": [
    {
     "data": {
      "text/html": [
       "<div>\n",
       "<style scoped>\n",
       "    .dataframe tbody tr th:only-of-type {\n",
       "        vertical-align: middle;\n",
       "    }\n",
       "\n",
       "    .dataframe tbody tr th {\n",
       "        vertical-align: top;\n",
       "    }\n",
       "\n",
       "    .dataframe thead th {\n",
       "        text-align: right;\n",
       "    }\n",
       "</style>\n",
       "<table border=\"1\" class=\"dataframe\">\n",
       "  <thead>\n",
       "    <tr style=\"text-align: right;\">\n",
       "      <th></th>\n",
       "      <th>english_statement</th>\n",
       "      <th>intent</th>\n",
       "      <th>programming_statement</th>\n",
       "      <th>audio_file_name</th>\n",
       "    </tr>\n",
       "  </thead>\n",
       "  <tbody>\n",
       "    <tr>\n",
       "      <th>0</th>\n",
       "      <td>i equals zero</td>\n",
       "      <td>arithmetic_expression</td>\n",
       "      <td>i =0</td>\n",
       "      <td>audio-438153821.mp3</td>\n",
       "    </tr>\n",
       "    <tr>\n",
       "      <th>1</th>\n",
       "      <td>i not equals zero</td>\n",
       "      <td>arithmetic_expression</td>\n",
       "      <td>i !=0</td>\n",
       "      <td>audio-668324927.mp3</td>\n",
       "    </tr>\n",
       "    <tr>\n",
       "      <th>2</th>\n",
       "      <td>i less than zero</td>\n",
       "      <td>arithmetic_expression</td>\n",
       "      <td>i &lt;0</td>\n",
       "      <td>audio-624815281.mp3</td>\n",
       "    </tr>\n",
       "    <tr>\n",
       "      <th>3</th>\n",
       "      <td>i greater than zero</td>\n",
       "      <td>arithmetic_expression</td>\n",
       "      <td>i &gt;0</td>\n",
       "      <td>audio-810256478.mp3</td>\n",
       "    </tr>\n",
       "    <tr>\n",
       "      <th>4</th>\n",
       "      <td>i less than equals zero</td>\n",
       "      <td>arithmetic_expression</td>\n",
       "      <td>i &lt;=0</td>\n",
       "      <td>audio-397931780.mp3</td>\n",
       "    </tr>\n",
       "  </tbody>\n",
       "</table>\n",
       "</div>"
      ],
      "text/plain": [
       "         english_statement                 intent programming_statement  \\\n",
       "0            i equals zero  arithmetic_expression                  i =0   \n",
       "1        i not equals zero  arithmetic_expression                 i !=0   \n",
       "2         i less than zero  arithmetic_expression                  i <0   \n",
       "3      i greater than zero  arithmetic_expression                  i >0   \n",
       "4  i less than equals zero  arithmetic_expression                 i <=0   \n",
       "\n",
       "       audio_file_name  \n",
       "0  audio-438153821.mp3  \n",
       "1  audio-668324927.mp3  \n",
       "2  audio-624815281.mp3  \n",
       "3  audio-810256478.mp3  \n",
       "4  audio-397931780.mp3  "
      ]
     },
     "execution_count": 48,
     "metadata": {},
     "output_type": "execute_result"
    }
   ],
   "source": [
    "df.head()"
   ]
  },
  {
   "cell_type": "code",
   "execution_count": 49,
   "metadata": {},
   "outputs": [
    {
     "data": {
      "text/plain": [
       "Index(['english_statement', 'intent', 'programming_statement',\n",
       "       'audio_file_name'],\n",
       "      dtype='object')"
      ]
     },
     "execution_count": 49,
     "metadata": {},
     "output_type": "execute_result"
    }
   ],
   "source": [
    "df.columns"
   ]
  },
  {
   "cell_type": "code",
   "execution_count": 63,
   "metadata": {},
   "outputs": [
    {
     "data": {
      "text/plain": [
       "(6810, 4)"
      ]
     },
     "execution_count": 63,
     "metadata": {},
     "output_type": "execute_result"
    }
   ],
   "source": [
    "df.shape"
   ]
  },
  {
   "cell_type": "code",
   "execution_count": 77,
   "metadata": {},
   "outputs": [
    {
     "name": "stderr",
     "output_type": "stream",
     "text": [
      "0it [00:00, ?it/s]\n"
     ]
    }
   ],
   "source": [
    "#Actual Data Preprocessing\n",
    "from tqdm import tqdm\n",
    "extracted_features = {\n",
    "    \"audio_representation\":[],\n",
    "    \"program_statement\":[]\n",
    "}\n",
    "for index,row in tqdm(df.iterrows()):\n",
    "    parent_dir = 'D:/7th Semester/PROJECT-WORK-PHASE-1/CODEX-PROJECT-REPO/FINAL_WAV_AUDIO\\\\'\n",
    "    filename = row['audio_file_name']\n",
    "    filename = filename.replace('.mp3','.wav')\n",
    "    filename = parent_dir+filename\n",
    "    if filename in audio_files:\n",
    "        extracted_features['program_statement'].append(row['programming_statement'])\n",
    "        data = np.array(feature_extractor(filename))\n",
    "        extracted_features['audio_representation'].append(data) \n",
    "    else:\n",
    "        continue\n",
    "    break"
   ]
  },
  {
   "cell_type": "code",
   "execution_count": 78,
   "metadata": {},
   "outputs": [
    {
     "data": {
      "text/plain": [
       "2"
      ]
     },
     "execution_count": 78,
     "metadata": {},
     "output_type": "execute_result"
    }
   ],
   "source": [
    "len(extracted_features)"
   ]
  },
  {
   "cell_type": "code",
   "execution_count": 84,
   "metadata": {},
   "outputs": [],
   "source": [
    "dataset = pd.DataFrame(extracted_features)\n",
    "dataset.head()\n",
    "dataset.to_csv('final_dataset_1.csv')"
   ]
  },
  {
   "cell_type": "code",
   "execution_count": 81,
   "metadata": {},
   "outputs": [
    {
     "data": {
      "text/plain": [
       "audio_representation    object\n",
       "program_statement       object\n",
       "dtype: object"
      ]
     },
     "execution_count": 81,
     "metadata": {},
     "output_type": "execute_result"
    }
   ],
   "source": [
    "dataset.dtypes"
   ]
  }
 ],
 "metadata": {
  "kernelspec": {
   "display_name": "Python 3.7.6 ('MLSem6')",
   "language": "python",
   "name": "python3"
  },
  "language_info": {
   "codemirror_mode": {
    "name": "ipython",
    "version": 3
   },
   "file_extension": ".py",
   "mimetype": "text/x-python",
   "name": "python",
   "nbconvert_exporter": "python",
   "pygments_lexer": "ipython3",
   "version": "3.7.6"
  },
  "orig_nbformat": 4,
  "vscode": {
   "interpreter": {
    "hash": "98bee32e5a2a188235a22e4c132008af9788eec7bcfdafe7c68f314c79772862"
   }
  }
 },
 "nbformat": 4,
 "nbformat_minor": 2
}
