{
  "cells": [
    {
      "cell_type": "code",
      "execution_count": 24,
      "metadata": {
        "colab": {
          "base_uri": "https://localhost:8080/"
        },
        "id": "EaL3C0lxNqFj",
        "outputId": "8b2f75c6-9284-4396-cb53-6dd8b481bb31"
      },
      "outputs": [
        {
          "name": "stderr",
          "output_type": "stream",
          "text": [
            "[nltk_data] Downloading package punkt to\n",
            "[nltk_data]     C:\\Users\\User\\AppData\\Roaming\\nltk_data...\n",
            "[nltk_data]   Package punkt is already up-to-date!\n"
          ]
        },
        {
          "data": {
            "text/plain": [
              "True"
            ]
          },
          "execution_count": 24,
          "metadata": {},
          "output_type": "execute_result"
        }
      ],
      "source": [
        "import nltk\n",
        "nltk.download('punkt')"
      ]
    },
    {
      "cell_type": "code",
      "execution_count": 25,
      "metadata": {
        "id": "41J1-N5-TgKZ"
      },
      "outputs": [],
      "source": [
        "from nltk.stem.lancaster import LancasterStemmer\n",
        "import numpy as np\n",
        "import tflearn\n",
        "import tensorflow as tf\n",
        "import random\n",
        "import pickle\n",
        "import json"
      ]
    },
    {
      "cell_type": "code",
      "execution_count": 26,
      "metadata": {
        "id": "QwwMZlXkT6uY"
      },
      "outputs": [
        {
          "data": {
            "text/plain": [
              "{'intents': [{'tag': 'greeting',\n",
              "   'patterns': ['Hi',\n",
              "    'Hii',\n",
              "    'How are you',\n",
              "    'Is anyone there?',\n",
              "    'Hello',\n",
              "    'Good day'],\n",
              "   'responses': ['Hello, thanks for visiting',\n",
              "    'Good to see you again',\n",
              "    'Hi there, how can I help?'],\n",
              "   'context_set': ''},\n",
              "  {'tag': 'goodbye',\n",
              "   'patterns': ['Bye', 'See you later', 'Goodbye', 'Shining off'],\n",
              "   'responses': ['See you later, thanks for visiting',\n",
              "    'Have a nice day',\n",
              "    'Bye! Come back again soon.',\n",
              "    'Had a good time! See you soon.'],\n",
              "   'context_set': ''},\n",
              "  {'tag': 'numbers',\n",
              "   'patterns': ['one',\n",
              "    'two',\n",
              "    'three',\n",
              "    'four',\n",
              "    'five',\n",
              "    'six',\n",
              "    'seven',\n",
              "    'eight',\n",
              "    'nine',\n",
              "    'zero'],\n",
              "   'responses': [],\n",
              "   'context_set': ''},\n",
              "  {'tag': 'keywords',\n",
              "   'patterns': ['False',\n",
              "    'None',\n",
              "    'True',\n",
              "    'and',\n",
              "    'as',\n",
              "    'assert',\n",
              "    'async',\n",
              "    'await',\n",
              "    'break',\n",
              "    'class',\n",
              "    'continue',\n",
              "    'def',\n",
              "    'del',\n",
              "    'elif',\n",
              "    'else',\n",
              "    'except',\n",
              "    'finally',\n",
              "    'for',\n",
              "    'from',\n",
              "    'global',\n",
              "    'if',\n",
              "    'import',\n",
              "    'in',\n",
              "    'is',\n",
              "    'lambda',\n",
              "    'nonlocal',\n",
              "    'not',\n",
              "    'or',\n",
              "    'pass',\n",
              "    'raise',\n",
              "    'return',\n",
              "    'try',\n",
              "    'while',\n",
              "    'with',\n",
              "    'yield'],\n",
              "   'responses': [],\n",
              "   'context_set': ''},\n",
              "  {'tag': 'else_if',\n",
              "   'patterns': ['else if'],\n",
              "   'responses': ['elif'],\n",
              "   'context_set': ''},\n",
              "  {'tag': 'inbuilt_functions',\n",
              "   'patterns': ['printof',\n",
              "    'print',\n",
              "    'charof',\n",
              "    'intof',\n",
              "    'floatof',\n",
              "    'doubleof',\n",
              "    'rangeof',\n",
              "    'range'],\n",
              "   'responses': [],\n",
              "   'context_set': ''},\n",
              "  {'tag': 'equals',\n",
              "   'patterns': ['isequalsto',\n",
              "    'equals',\n",
              "    'equals to',\n",
              "    'isequalto',\n",
              "    'assignedto',\n",
              "    'assign',\n",
              "    'equalto'],\n",
              "   'responses': ['='],\n",
              "   'context_set': ''},\n",
              "  {'tag': 'less than',\n",
              "   'patterns': ['lessthan', 'lesserthan', 'less'],\n",
              "   'responses': ['<'],\n",
              "   'context_set': ''},\n",
              "  {'tag': 'greater than',\n",
              "   'patterns': ['greaterthan', 'greater'],\n",
              "   'responses': ['>'],\n",
              "   'context_set': ''},\n",
              "  {'tag': 'greater than equals',\n",
              "   'patterns': ['greaterthanequals',\n",
              "    'greaterthanorequals',\n",
              "    'greaterthanequalto',\n",
              "    'greaterthanequalsto',\n",
              "    'greaterthanorequalsto',\n",
              "    'greaterthanorequalto'],\n",
              "   'responses': ['>='],\n",
              "   'context_set': ''},\n",
              "  {'tag': 'less than equals',\n",
              "   'patterns': ['lessthanequals',\n",
              "    'lessthanorequals',\n",
              "    'lessthanequalto',\n",
              "    'lessthanequalsto',\n",
              "    'lessthanorequalsto',\n",
              "    'lessthanorequalto'],\n",
              "   'responses': ['<='],\n",
              "   'context_set': ''},\n",
              "  {'tag': 'add',\n",
              "   'patterns': ['plus', 'addition', 'added', 'addedwith', 'add'],\n",
              "   'responses': ['+'],\n",
              "   'context_set': ''},\n",
              "  {'tag': 'subtract',\n",
              "   'patterns': ['minus', 'hyphen', 'subtarct', 'subractedwith'],\n",
              "   'responses': ['-'],\n",
              "   'context_set': ''},\n",
              "  {'tag': 'multiply',\n",
              "   'patterns': ['star', 'asterisk', 'multiply', 'product'],\n",
              "   'responses': ['*'],\n",
              "   'context_set': ''},\n",
              "  {'tag': 'divide',\n",
              "   'patterns': ['divide', 'dividedby', 'divided', 'slash'],\n",
              "   'responses': ['/'],\n",
              "   'context_set': ''},\n",
              "  {'tag': 'plus equals',\n",
              "   'patterns': ['plusequals'],\n",
              "   'responses': ['+='],\n",
              "   'context_set': ''},\n",
              "  {'tag': 'minus equals',\n",
              "   'patterns': ['minusequals'],\n",
              "   'responses': ['-='],\n",
              "   'context_set': ''},\n",
              "  {'tag': 'multiply equals',\n",
              "   'patterns': ['starequals'],\n",
              "   'responses': ['*='],\n",
              "   'context_set': ''},\n",
              "  {'tag': 'divide equals',\n",
              "   'patterns': ['slashequals'],\n",
              "   'responses': ['/='],\n",
              "   'context_set': ''},\n",
              "  {'tag': 'power',\n",
              "   'patterns': ['power', 'to the power of'],\n",
              "   'responses': ['**'],\n",
              "   'context_set': ''},\n",
              "  {'tag': 'integer_divide',\n",
              "   'patterns': ['doubleslash', 'slashslash'],\n",
              "   'responses': ['//'],\n",
              "   'context_set': ''},\n",
              "  {'tag': 'double_equals',\n",
              "   'patterns': ['equalsequals', 'doubleequals'],\n",
              "   'responses': ['=='],\n",
              "   'context_set': ''},\n",
              "  {'tag': 'logical_and',\n",
              "   'patterns': ['logicaland', 'ampersand'],\n",
              "   'responses': ['&'],\n",
              "   'context_set': ''},\n",
              "  {'tag': 'logical_or',\n",
              "   'patterns': ['logicalor'],\n",
              "   'responses': ['|'],\n",
              "   'context_set': ''},\n",
              "  {'tag': 'logical_not',\n",
              "   'patterns': ['logicalnot', 'cap'],\n",
              "   'responses': ['^'],\n",
              "   'context_set': ''}]}"
            ]
          },
          "execution_count": 26,
          "metadata": {},
          "output_type": "execute_result"
        }
      ],
      "source": [
        "with open('D:\\\\7th Semester\\\\PROJECT-WORK-PHASE-1\\\\CODEX-PROJECT-REPO\\\\intents.json') as file:\n",
        "  data = json.load(file)\n",
        "data"
      ]
    },
    {
      "cell_type": "code",
      "execution_count": 27,
      "metadata": {
        "id": "csH3qtCHUyDB"
      },
      "outputs": [],
      "source": [
        "#Initialize Stemmer\n",
        "stemmer = LancasterStemmer()\n",
        "tf.compat.v1.reset_default_graph()"
      ]
    },
    {
      "cell_type": "markdown",
      "metadata": {
        "id": "0xtWn7-1UMd5"
      },
      "source": [
        "DATA PRE-PROCESSING"
      ]
    },
    {
      "cell_type": "code",
      "execution_count": 28,
      "metadata": {
        "id": "guqfhFOtUDAo"
      },
      "outputs": [],
      "source": [
        "all_words = []\n",
        "intents = []\n",
        "pattern_set = []\n",
        "tag_set = []\n",
        "for intent in data['intents']:\n",
        "  for pattern in intent['patterns']:\n",
        "    wrds = nltk.word_tokenize(pattern)\n",
        "    all_words.extend(wrds)\n",
        "    pattern_set.append(wrds)\n",
        "    tag_set.append(intent['tag'])\n",
        "  if intent not in intents:\n",
        "    intents.append(intent['tag'])\n",
        "\n",
        "all_words = [stemmer.stem(w.lower()) for w in all_words if w!=\"?\"]\n",
        "all_words = sorted(list(set(all_words)))\n",
        "intents = sorted(intents)"
      ]
    },
    {
      "cell_type": "code",
      "execution_count": 29,
      "metadata": {
        "colab": {
          "base_uri": "https://localhost:8080/"
        },
        "id": "WZmSV_cAVLh5",
        "outputId": "900f15fe-4b61-4f6e-9633-ae93060d8dcd"
      },
      "outputs": [
        {
          "data": {
            "text/plain": [
              "124"
            ]
          },
          "execution_count": 29,
          "metadata": {},
          "output_type": "execute_result"
        }
      ],
      "source": [
        "len(all_words)\n",
        "# alL_words[:10]"
      ]
    },
    {
      "cell_type": "code",
      "execution_count": 30,
      "metadata": {
        "colab": {
          "base_uri": "https://localhost:8080/"
        },
        "id": "YoVtJJPoVzrg",
        "outputId": "1b06d2ac-5c35-4b9b-84a4-3ce444dcd064"
      },
      "outputs": [
        {
          "data": {
            "text/plain": [
              "[['Hi'],\n",
              " ['Hii'],\n",
              " ['How', 'are', 'you'],\n",
              " ['Is', 'anyone', 'there', '?'],\n",
              " ['Hello'],\n",
              " ['Good', 'day'],\n",
              " ['Bye'],\n",
              " ['See', 'you', 'later'],\n",
              " ['Goodbye'],\n",
              " ['Shining', 'off'],\n",
              " ['one'],\n",
              " ['two'],\n",
              " ['three'],\n",
              " ['four'],\n",
              " ['five'],\n",
              " ['six'],\n",
              " ['seven'],\n",
              " ['eight'],\n",
              " ['nine'],\n",
              " ['zero'],\n",
              " ['False'],\n",
              " ['None'],\n",
              " ['True'],\n",
              " ['and'],\n",
              " ['as'],\n",
              " ['assert'],\n",
              " ['async'],\n",
              " ['await'],\n",
              " ['break'],\n",
              " ['class'],\n",
              " ['continue'],\n",
              " ['def'],\n",
              " ['del'],\n",
              " ['elif'],\n",
              " ['else'],\n",
              " ['except'],\n",
              " ['finally'],\n",
              " ['for'],\n",
              " ['from'],\n",
              " ['global'],\n",
              " ['if'],\n",
              " ['import'],\n",
              " ['in'],\n",
              " ['is'],\n",
              " ['lambda'],\n",
              " ['nonlocal'],\n",
              " ['not'],\n",
              " ['or'],\n",
              " ['pass'],\n",
              " ['raise'],\n",
              " ['return'],\n",
              " ['try'],\n",
              " ['while'],\n",
              " ['with'],\n",
              " ['yield'],\n",
              " ['else', 'if'],\n",
              " ['printof'],\n",
              " ['print'],\n",
              " ['charof'],\n",
              " ['intof'],\n",
              " ['floatof'],\n",
              " ['doubleof'],\n",
              " ['rangeof'],\n",
              " ['range'],\n",
              " ['isequalsto'],\n",
              " ['equals'],\n",
              " ['equals', 'to'],\n",
              " ['isequalto'],\n",
              " ['assignedto'],\n",
              " ['assign'],\n",
              " ['equalto'],\n",
              " ['lessthan'],\n",
              " ['lesserthan'],\n",
              " ['less'],\n",
              " ['greaterthan'],\n",
              " ['greater'],\n",
              " ['greaterthanequals'],\n",
              " ['greaterthanorequals'],\n",
              " ['greaterthanequalto'],\n",
              " ['greaterthanequalsto'],\n",
              " ['greaterthanorequalsto'],\n",
              " ['greaterthanorequalto'],\n",
              " ['lessthanequals'],\n",
              " ['lessthanorequals'],\n",
              " ['lessthanequalto'],\n",
              " ['lessthanequalsto'],\n",
              " ['lessthanorequalsto'],\n",
              " ['lessthanorequalto'],\n",
              " ['plus'],\n",
              " ['addition'],\n",
              " ['added'],\n",
              " ['addedwith'],\n",
              " ['add'],\n",
              " ['minus'],\n",
              " ['hyphen'],\n",
              " ['subtarct'],\n",
              " ['subractedwith'],\n",
              " ['star'],\n",
              " ['asterisk'],\n",
              " ['multiply'],\n",
              " ['product'],\n",
              " ['divide'],\n",
              " ['dividedby'],\n",
              " ['divided'],\n",
              " ['slash'],\n",
              " ['plusequals'],\n",
              " ['minusequals'],\n",
              " ['starequals'],\n",
              " ['slashequals'],\n",
              " ['power'],\n",
              " ['to', 'the', 'power', 'of'],\n",
              " ['doubleslash'],\n",
              " ['slashslash'],\n",
              " ['equalsequals'],\n",
              " ['doubleequals'],\n",
              " ['logicaland'],\n",
              " ['ampersand'],\n",
              " ['logicalor'],\n",
              " ['logicalnot'],\n",
              " ['cap']]"
            ]
          },
          "execution_count": 30,
          "metadata": {},
          "output_type": "execute_result"
        }
      ],
      "source": [
        "pattern_set"
      ]
    },
    {
      "cell_type": "code",
      "execution_count": 31,
      "metadata": {
        "colab": {
          "base_uri": "https://localhost:8080/"
        },
        "id": "b5_73S03VRy9",
        "outputId": "b6028243-3f41-46ce-95e2-033a695169b0"
      },
      "outputs": [
        {
          "data": {
            "text/plain": [
              "25"
            ]
          },
          "execution_count": 31,
          "metadata": {},
          "output_type": "execute_result"
        }
      ],
      "source": [
        "len(intents)"
      ]
    },
    {
      "cell_type": "code",
      "execution_count": 32,
      "metadata": {
        "colab": {
          "base_uri": "https://localhost:8080/"
        },
        "id": "0qp5YzWHVZqy",
        "outputId": "732f5e18-8271-48da-bc19-e0267db1b8c6"
      },
      "outputs": [
        {
          "data": {
            "text/plain": [
              "25"
            ]
          },
          "execution_count": 32,
          "metadata": {},
          "output_type": "execute_result"
        }
      ],
      "source": [
        "len(data['intents'])"
      ]
    },
    {
      "cell_type": "code",
      "execution_count": 33,
      "metadata": {
        "id": "o9UVZYkiVcOz"
      },
      "outputs": [],
      "source": [
        "training_set = []\n",
        "output = []\n",
        "\n",
        "#output format - one hot encoding to decide which intent it belongs to\n",
        "out_format = [0 for _ in range(len(intents))]\n",
        "\n",
        "#creating one hot encoding for each sentence with respect to the vocabulary\n",
        "for x,doc in enumerate(pattern_set):\n",
        "  bag = []\n",
        "  wrds = [stemmer.stem(w.lower()) for w in doc]\n",
        "  for w in all_words:\n",
        "    if w in wrds:\n",
        "      bag.append(1)\n",
        "    else:\n",
        "      bag.append(0)\n",
        "  output_row = out_format[:]\n",
        "  output_row[intents.index(tag_set[x])]=1\n",
        "  training_set.append(bag)\n",
        "  output.append(output_row)"
      ]
    },
    {
      "cell_type": "code",
      "execution_count": 34,
      "metadata": {
        "colab": {
          "base_uri": "https://localhost:8080/"
        },
        "id": "Xrzg96DPWeT9",
        "outputId": "62f094aa-3b07-44e3-f761-a1cccf4c2c79"
      },
      "outputs": [
        {
          "data": {
            "text/plain": [
              "124"
            ]
          },
          "execution_count": 34,
          "metadata": {},
          "output_type": "execute_result"
        }
      ],
      "source": [
        "len(training_set[0])"
      ]
    },
    {
      "cell_type": "code",
      "execution_count": 35,
      "metadata": {
        "colab": {
          "base_uri": "https://localhost:8080/"
        },
        "id": "1uC6RiwjWoNu",
        "outputId": "3c404b83-75e2-4201-85d5-391f533ad768"
      },
      "outputs": [
        {
          "data": {
            "text/plain": [
              "25"
            ]
          },
          "execution_count": 35,
          "metadata": {},
          "output_type": "execute_result"
        }
      ],
      "source": [
        "len(output[0])"
      ]
    },
    {
      "cell_type": "code",
      "execution_count": 36,
      "metadata": {
        "id": "B7VMSvrLWcOu"
      },
      "outputs": [],
      "source": [
        "training_set = np.array(training_set)\n",
        "output = np.array(output)"
      ]
    },
    {
      "cell_type": "code",
      "execution_count": 37,
      "metadata": {
        "id": "FO_QDgjdXKcK"
      },
      "outputs": [],
      "source": [
        "#Saving the training and output format as a pickle file\n",
        "with open(\"D:\\\\7th Semester\\\\PROJECT-WORK-PHASE-1\\\\CODEX-PROJECT-REPO\\\\SAVED_MODELS\\\\data.pickle\",\"wb\") as f:\n",
        "  pickle.dump((all_words,intents,training_set,output),f)"
      ]
    },
    {
      "cell_type": "markdown",
      "metadata": {
        "id": "qu3yzm0dXi-_"
      },
      "source": [
        "MODEL CONSTRUCTION"
      ]
    },
    {
      "cell_type": "code",
      "execution_count": 38,
      "metadata": {
        "id": "BomRZtsuXiZ5"
      },
      "outputs": [],
      "source": [
        "model = tflearn.input_data(shape=[None ,len(training_set[0])])\n",
        "model = tflearn.fully_connected(model,8)\n",
        "model = tflearn.fully_connected(model,8)\n",
        "\n",
        "model = tflearn.fully_connected(model,len(output[0]),activation=\"softmax\")\n",
        "model = tflearn.regression(model)\n",
        "\n",
        "model = tflearn.DNN(model)"
      ]
    },
    {
      "cell_type": "code",
      "execution_count": 39,
      "metadata": {
        "colab": {
          "base_uri": "https://localhost:8080/"
        },
        "id": "k30KgNHSas9B",
        "outputId": "31feb7d8-10cf-487a-cb69-0809dd7dbb60"
      },
      "outputs": [
        {
          "name": "stdout",
          "output_type": "stream",
          "text": [
            "Training Step: 5249  | total loss: \u001b[1m\u001b[32m0.62751\u001b[0m\u001b[0m | time: 0.035s\n",
            "| Adam | epoch: 350 | loss: 0.62751 - acc: 0.8215 -- iter: 112/120\n",
            "Training Step: 5250  | total loss: \u001b[1m\u001b[32m0.64970\u001b[0m\u001b[0m | time: 0.039s\n",
            "| Adam | epoch: 350 | loss: 0.64970 - acc: 0.8144 -- iter: 120/120\n",
            "--\n",
            "INFO:tensorflow:d:\\7th Semester\\PROJECT-WORK-PHASE-1\\CODEX-PROJECT-REPO\\model.tflearn is not in all_model_checkpoint_paths. Manually adding it.\n"
          ]
        }
      ],
      "source": [
        "\n",
        "model.fit(training_set,output,n_epoch=350,batch_size=8,show_metric=True)\n",
        "model.save(\"model.tflearn\")"
      ]
    },
    {
      "cell_type": "code",
      "execution_count": 40,
      "metadata": {},
      "outputs": [],
      "source": [
        "tf.compat.v1.reset_default_graph()"
      ]
    },
    {
      "cell_type": "markdown",
      "metadata": {
        "id": "MUk3qHixlV5B"
      },
      "source": [
        "MODEL PREDICTION"
      ]
    },
    {
      "cell_type": "code",
      "execution_count": 41,
      "metadata": {
        "id": "zkZsHE1EcQ5v"
      },
      "outputs": [],
      "source": [
        "#To pre-process the input text\n",
        "def bag_of_words(inp,words):\n",
        "  bag = [0 for _ in range(len(words))]\n",
        "  user_words = nltk.word_tokenize(inp)\n",
        "  user_words = [stemmer.stem(word.lower()) for word in user_words]\n",
        "\n",
        "  for element in user_words:\n",
        "    for i,w in enumerate(words):\n",
        "      if w == element:\n",
        "        bag[i]=1\n",
        "  return bag"
      ]
    },
    {
      "cell_type": "code",
      "execution_count": 42,
      "metadata": {
        "id": "YS8bYw3kg1Jq"
      },
      "outputs": [],
      "source": [
        "number_map={\n",
        "    \"one\":'1',\n",
        "    \"two\":'2',\n",
        "    \"three\":'3',\n",
        "    \"four\":'4',\n",
        "    \"five\":'5',\n",
        "    \"six\":'6',\n",
        "    \"seven\":'7',\n",
        "    \"eight\":'8',\n",
        "    \"nine\":'9',\n",
        "    \"zero\":'0'\n",
        "}"
      ]
    },
    {
      "cell_type": "code",
      "execution_count": 43,
      "metadata": {
        "id": "5uGdmMWfbLrK"
      },
      "outputs": [],
      "source": [
        "def predict(input):\n",
        "  results = model.predict([bag_of_words(input,all_words)])\n",
        "  result_index = np.argmax(results)\n",
        "  tag = intents[result_index]\n",
        "  print(tag,end=\" \")\n",
        "  print(results[0][result_index])\n",
        "  if results[0][result_index]>0.8:\n",
        "    if tag == \"keywords\":\n",
        "      return input\n",
        "    elif tag==\"else_if\":\n",
        "      return \"elif\"\n",
        "    elif tag == \"inbuilt_functions\":\n",
        "      input = input.replace('of','')\n",
        "      input+=\"(\"\n",
        "      return input\n",
        "    elif tag==\"numbers\":\n",
        "      if input in number_map:\n",
        "        return number_map[input]\n",
        "      else:\n",
        "        return input\n",
        "    elif tag == \"greeting\" or tag==\"goodbye\":\n",
        "      for t in data['intents']:\n",
        "        if t['tag']==tag:\n",
        "          responses = t['responses']\n",
        "          return(random.choice(responses))\n",
        "    else:\n",
        "      for t in data['intents']:\n",
        "        if t['tag']==tag:\n",
        "          responses = t['responses']\n",
        "          return(responses[0])\n",
        "  else:\n",
        "    print(results[0][result_index])\n",
        "    return input"
      ]
    },
    {
      "cell_type": "code",
      "execution_count": 44,
      "metadata": {
        "id": "UUs7zvFqlel1"
      },
      "outputs": [],
      "source": [
        "def preprocess(string):\n",
        "    string = string.replace('equals equals','equalsequals').replace('slash slash','slashslash').replace('is equals to','isequalsto').replace('is equal to','isequalto').replace('less than or equals to','lessthanorequalsto').replace('less than equals to','lessthanequalsto').replace('greater than or equals to','greaterthanorequalsto').replace('greater than equals to','greaterthanequalsto').replace('equals to','equalsto').replace('equalto','equalto').replace('less than or','lessthanor').replace('greater than or','greaterthanor').replace('less than','lessthan').replace('greater than','greaterthan').replace('else if','elseif').replace('range of','rangeof').replace('print of','printof')\n",
        "    return string"
      ]
    },
    {
      "cell_type": "code",
      "execution_count": 45,
      "metadata": {
        "colab": {
          "base_uri": "https://localhost:8080/"
        },
        "id": "8buTIDZundV7",
        "outputId": "e93075b4-6e55-45d2-b816-e9a0e9d17cae"
      },
      "outputs": [
        {
          "name": "stdout",
          "output_type": "stream",
          "text": [
            "for i in rangeof five\n",
            "if i equalsto three\n",
            "elseif i lessthanorequalsto nine\n"
          ]
        }
      ],
      "source": [
        "print(preprocess(\"for i in range of five\"))\n",
        "print(preprocess(\"if i equals to three\"))\n",
        "print(preprocess(\"else if i less than or equals to nine\"))"
      ]
    },
    {
      "cell_type": "markdown",
      "metadata": {
        "id": "O8O1o6QOlR1r"
      },
      "source": [
        "PARSE ALGORITHM"
      ]
    },
    {
      "cell_type": "code",
      "execution_count": 46,
      "metadata": {
        "colab": {
          "base_uri": "https://localhost:8080/"
        },
        "id": "zvkMRZ18c2J9",
        "outputId": "f6bd6ca9-e62e-44b6-d616-17646b79c3e3"
      },
      "outputs": [],
      "source": [
        "# bag_of_words(\"for\",all_words).count(1)\n",
        "def parse_statement(string):\n",
        "  string = preprocess(string)\n",
        "  print(\"Pre-processed String: \",string)\n",
        "  result = []\n",
        "  for word in string.split(' '):\n",
        "    print(word,end=\" \")\n",
        "    result.append(predict(word))\n",
        "    # print(predict(word))\n",
        "    print(result)\n",
        "  return' '.join(result)\n",
        "# string = input('Enter Your String : ')\n",
        "# parse_statement(string)"
      ]
    }
  ],
  "metadata": {
    "colab": {
      "provenance": []
    },
    "kernelspec": {
      "display_name": "Python 3.7.6 ('MLSem6')",
      "language": "python",
      "name": "python3"
    },
    "language_info": {
      "codemirror_mode": {
        "name": "ipython",
        "version": 3
      },
      "file_extension": ".py",
      "mimetype": "text/x-python",
      "name": "python",
      "nbconvert_exporter": "python",
      "pygments_lexer": "ipython3",
      "version": "3.7.6"
    },
    "vscode": {
      "interpreter": {
        "hash": "98bee32e5a2a188235a22e4c132008af9788eec7bcfdafe7c68f314c79772862"
      }
    }
  },
  "nbformat": 4,
  "nbformat_minor": 0
}
